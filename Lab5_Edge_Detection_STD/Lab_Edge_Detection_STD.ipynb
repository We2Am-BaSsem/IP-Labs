{
 "cells": [
  {
   "cell_type": "markdown",
   "metadata": {},
   "source": [
    "# Lab 4 - part2\n",
    "### Edge Detection\n",
    "\n",
    "https://github.com/scikit-image/scikit-image/blob/master/skimage/filters/edges.py\n",
    "\n",
    "http://scikit-image.org/docs/0.11.x/auto_examples/plot_edge_filter.html\n",
    "\n",
    "http://scikit-image.org/docs/dev/auto_examples/edges/plot_canny.html\n",
    "\n"
   ]
  },
  {
   "cell_type": "code",
   "execution_count": null,
   "metadata": {},
   "outputs": [],
   "source": [
    "from commonfunctions import *\n",
    "%matplotlib inline\n",
    "%load_ext autoreload\n",
    "%autoreload 2"
   ]
  },
  {
   "cell_type": "code",
   "execution_count": null,
   "metadata": {},
   "outputs": [],
   "source": [
    "'''\n",
    "1. Built-in Sobel, Prewill, Roberts\n",
    "2. Custom Sobel (V-H-Both)\n",
    "3. Custom LoG\n",
    "'''"
   ]
  },
  {
   "cell_type": "code",
   "execution_count": null,
   "metadata": {},
   "outputs": [],
   "source": [
    "# 1. Built-in Sobel, Prewill, Roberts\n",
    "\n",
    "img = rgb2gray(io.imread('circuit.tif'))\n",
    "\n"
   ]
  },
  {
   "cell_type": "code",
   "execution_count": null,
   "metadata": {},
   "outputs": [],
   "source": [
    "# 2. Custom Sobel (V-H-Both)\n",
    "\n",
    "\n",
    "\n"
   ]
  },
  {
   "cell_type": "code",
   "execution_count": null,
   "metadata": {},
   "outputs": [],
   "source": [
    "# 3. Custom LoG\n",
    "thres= 20\n",
    "\n"
   ]
  },
  {
   "cell_type": "code",
   "execution_count": null,
   "metadata": {},
   "outputs": [],
   "source": [
    "'''\n",
    "Optional\n",
    "1-Make edge detection\n",
    "2-Multiply by factor < 1\n",
    "3-Subtract (Orginal Image) - (Edge Detection Image)\n",
    "'''"
   ]
  }
 ],
 "metadata": {
  "kernelspec": {
   "display_name": "Python 3",
   "language": "python",
   "name": "python3"
  },
  "language_info": {
   "codemirror_mode": {
    "name": "ipython",
    "version": 3
   },
   "file_extension": ".py",
   "mimetype": "text/x-python",
   "name": "python",
   "nbconvert_exporter": "python",
   "pygments_lexer": "ipython3",
   "version": "3.7.4"
  }
 },
 "nbformat": 4,
 "nbformat_minor": 2
}
