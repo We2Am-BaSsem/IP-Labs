{
 "cells": [
  {
   "cell_type": "code",
   "execution_count": null,
   "metadata": {},
   "outputs": [],
   "source": [
    "import skimage.io as io\n",
    "\n",
    "# Show the figures / plots inside the notebook\n",
    "%matplotlib inline\n",
    "from skimage.color import rgb2gray,rgb2hsv\n",
    "import matplotlib.pyplot as plt\n",
    "import numpy as np\n",
    "from skimage.util import random_noise\n",
    "import numpy as np\n",
    "\n",
    "from skimage.exposure import histogram\n",
    "from matplotlib.pyplot import bar\n"
   ]
  },
  {
   "cell_type": "code",
   "execution_count": null,
   "metadata": {},
   "outputs": [],
   "source": [
    "\n",
    "def show_images(images,titles=None):\n",
    "    #This function is used to show image(s) with titles by sending an array of images and an array of associated titles.\n",
    "    # images[0] will be drawn with the title titles[0] if exists\n",
    "    # You aren't required to understand this function, use it as-is.\n",
    "    n_ims = len(images)\n",
    "    if titles is None: titles = ['(%d)' % i for i in range(1,n_ims + 1)]\n",
    "    fig = plt.figure()\n",
    "    n = 1\n",
    "    for image,title in zip(images,titles):\n",
    "        a = fig.add_subplot(1,n_ims,n)\n",
    "        if image.ndim == 2: \n",
    "            plt.gray()\n",
    "        plt.imshow(image)\n",
    "        a.set_title(title)\n",
    "        n += 1\n",
    "    fig.set_size_inches(np.array(fig.get_size_inches()) * n_ims)\n",
    "    plt.show()"
   ]
  },
  {
   "cell_type": "code",
   "execution_count": null,
   "metadata": {},
   "outputs": [],
   "source": [
    "# Ex: imread and imshow \n",
    "pyramids = io.imread('pyramids.jpeg')\n",
    "io.imshow(pyramids)\n",
    "io.show()\n",
    "\n"
   ]
  },
  {
   "cell_type": "code",
   "execution_count": null,
   "metadata": {},
   "outputs": [],
   "source": [
    "# Use this function to show a histogram\n",
    "# The image should be gray-scale and should range from 0 to 1\n",
    "def showHist(img,histogramImg):\n",
    "    plt.figure()\n",
    "    bar(histogramImg[1]*255, histogramImg[0], width=0.8, align='center')"
   ]
  },
  {
   "cell_type": "code",
   "execution_count": null,
   "metadata": {},
   "outputs": [],
   "source": [
    "'''\n",
    "@TODO:\n",
    "Requirement #1 \n",
    "-Read and print image 'coffee'  \n",
    "-Show and print half of the  image\n",
    "-----hint :use the attribute shape of numpy to get the image object dimentions\n",
    "'''\n"
   ]
  },
  {
   "cell_type": "code",
   "execution_count": null,
   "metadata": {},
   "outputs": [],
   "source": [
    "'''\n",
    "@TODO:\n",
    "Requirement #2 \n",
    "RGB to gray and HSV:\n",
    "1- Write a function 'gray_image' that takes an image as input , then\n",
    "    -get the gray scale of the image, then\n",
    "    -display original image and the gray scale one side by side (subplot).\n",
    "    -hint: use rgb2gray to get the graylevel of the image\n",
    "- test your function with the image 'pyramids'\n",
    "    \n",
    "2- Write a function 'HSV_image' that takes an image as input , then\n",
    "   -show the RGB image and the (3 channels of HSV image each channel in separated form ) one side by side (subplot).\n",
    "   -hint: -use rgb2hsv (to get the hsv representation of the image).\n",
    "          -To separately get the Hue, Saturation and Value channels, use hsvImg[:,:,X], \n",
    "           where hsvImg is the hsv representation of the image. \n",
    "           Hue is the first channel, Saturation is the second and value is the last channel.\n",
    "- test your function for the images in HSV Folder. And comment on the results. \n",
    "'''\n",
    "\n",
    "    "
   ]
  },
  {
   "cell_type": "code",
   "execution_count": null,
   "metadata": {},
   "outputs": [],
   "source": [
    "'''\n",
    "Requirement 2 (Noise):\n",
    "http://scikit-image.org/docs/dev/api/skimage.util.html#skimage.util.random_noise\n",
    "\n",
    "1.For an image of your choice (the effect of noise must be obvious): \n",
    "    Read the image.\n",
    "    Convert it to greyscale.\n",
    "    Apply salt & pepper noise with \n",
    "    amount=0.05, 0.5 and 0.9\n",
    "   \n",
    "2. From the other images. Recommend one image that won’t be greatly affected by the noise and state why.    \n",
    "    '''\n"
   ]
  },
  {
   "cell_type": "code",
   "execution_count": null,
   "metadata": {},
   "outputs": [],
   "source": [
    "'''\n",
    "Requirement 3 (Histogram):\n",
    "\n",
    "1- For the given images ( in histogram folder): \n",
    "    Read the image.\n",
    "    Apply histogram and show it.\n",
    "Hint\n",
    "    A) Use histogram (image) to get histogram. Try different values for nbins (256,64,8), What does it mean?\n",
    "    B) and function(showHist) to draw it.\n",
    "** 2- Draw a grey-scale image that has uniform histogram \n",
    "same number of pixels for all intensity levels) using code only. Let the size of the image be 256x256.\n",
    "use np.ones to draw image with ones.\n",
    "'''"
   ]
  },
  {
   "cell_type": "code",
   "execution_count": null,
   "metadata": {},
   "outputs": [],
   "source": []
  }
 ],
 "metadata": {
  "kernelspec": {
   "display_name": "Python 3",
   "language": "python",
   "name": "python3"
  },
  "language_info": {
   "codemirror_mode": {
    "name": "ipython",
    "version": 3
   },
   "file_extension": ".py",
   "mimetype": "text/x-python",
   "name": "python",
   "nbconvert_exporter": "python",
   "pygments_lexer": "ipython3",
   "version": "3.7.1"
  }
 },
 "nbformat": 4,
 "nbformat_minor": 2
}
