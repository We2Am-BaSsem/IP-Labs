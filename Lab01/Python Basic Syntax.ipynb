{
 "cells": [
  {
   "cell_type": "code",
   "execution_count": 1,
   "metadata": {},
   "outputs": [
    {
     "name": "stdout",
     "output_type": "stream",
     "text": [
      "3 True String!\n"
     ]
    }
   ],
   "source": [
    "#You declare the variable without type.\n",
    "a = 3\n",
    "b = True\n",
    "c = 'String!'\n",
    "print(a,b,c)"
   ]
  },
  {
   "cell_type": "code",
   "execution_count": 2,
   "metadata": {},
   "outputs": [
    {
     "name": "stdout",
     "output_type": "stream",
     "text": [
      "2.5\n",
      "2\n"
     ]
    }
   ],
   "source": [
    "print(5/2)\n",
    "print(int(5/2))"
   ]
  },
  {
   "cell_type": "code",
   "execution_count": 2,
   "metadata": {},
   "outputs": [
    {
     "name": "stdout",
     "output_type": "stream",
     "text": [
      "show array with for in\n",
      "1\n",
      "2\n",
      "3\n",
      "4\n",
      "5\n",
      "show array with for in range\n",
      "1\n",
      "2\n",
      "3\n",
      "4\n",
      "5\n",
      "show even numbers\n",
      "2\n",
      "4\n"
     ]
    }
   ],
   "source": [
    "#Loops\n",
    "arr = [1,2,3,4,5]\n",
    "print('show array with for in')\n",
    "for x in arr:\n",
    "    print(x)\n",
    "print('show array with for in range')\n",
    "for x in range(len(arr)):\n",
    "    print(arr[x])\n",
    "print('show even numbers')\n",
    "for x in arr:\n",
    "    if x%2 == 0:\n",
    "        print(x)\n"
   ]
  },
  {
   "cell_type": "code",
   "execution_count": 6,
   "metadata": {},
   "outputs": [
    {
     "name": "stdout",
     "output_type": "stream",
     "text": [
      "[0, 1, 2]\n",
      "[0 1 2 3 4 5]\n",
      "[0, 1, 2, 3, 4, 5]\n",
      "[0 0 0 3 4 5]\n",
      "[-1  1 -1  3 -1  5]\n"
     ]
    }
   ],
   "source": [
    "# Array Indexing:\n",
    "arr = [0,1,2,3,4,5]\n",
    "print(arr[0:3])\n",
    "\n",
    "import numpy as np\n",
    "\n",
    "\n",
    "origMat = np.array(arr)\n",
    "mat = np.copy(origMat)\n",
    "print(mat)\n",
    "print(arr)\n",
    "mat[0:3] = 0\n",
    "print(mat)\n",
    "mat = np.copy(origMat)\n",
    "mat[(mat%2==0)] = -1\n",
    "print(mat)"
   ]
  },
  {
   "cell_type": "code",
   "execution_count": 8,
   "metadata": {},
   "outputs": [
    {
     "name": "stdout",
     "output_type": "stream",
     "text": [
      "[[1 2 3 4 5]\n",
      " [1 2 3 4 5]\n",
      " [1 2 3 4 5]]\n",
      "[[1 2 3 4 5]\n",
      " [1 0 0 4 5]\n",
      " [1 2 3 4 5]]\n"
     ]
    }
   ],
   "source": [
    "origMat = np.array([\n",
    "                   [1,2,3,4,5],\n",
    "                   [1,2,3,4,5],\n",
    "                   [1,2,3,4,5]\n",
    "                   ])\n",
    "mat = np.copy(origMat)\n",
    "print(mat)\n",
    "mat[1:2,1:3] = 0\n",
    "print(mat)"
   ]
  },
  {
   "cell_type": "code",
   "execution_count": 9,
   "metadata": {},
   "outputs": [
    {
     "name": "stdout",
     "output_type": "stream",
     "text": [
      "[[0. 0. 0. 0. 0.]\n",
      " [0. 0. 0. 0. 0.]\n",
      " [0. 0. 0. 0. 0.]\n",
      " [0. 0. 0. 0. 0.]\n",
      " [0. 0. 0. 0. 0.]\n",
      " [0. 0. 0. 0. 0.]]\n",
      "[[1. 1. 1. 1. 1.]\n",
      " [1. 1. 1. 1. 1.]\n",
      " [1. 1. 1. 1. 1.]\n",
      " [1. 1. 1. 1. 1.]\n",
      " [1. 1. 1. 1. 1.]\n",
      " [1. 1. 1. 1. 1.]]\n",
      "(6, 5)\n",
      "6\n"
     ]
    }
   ],
   "source": [
    "arrZeros = np.zeros((6,5))\n",
    "arrOnes =np.ones((6,5))\n",
    "print(arrZeros)\n",
    "print(arrOnes)\n",
    "print(arrOnes.shape)\n",
    "print(arrOnes.shape[0])"
   ]
  },
  {
   "cell_type": "code",
   "execution_count": 10,
   "metadata": {},
   "outputs": [
    {
     "name": "stdout",
     "output_type": "stream",
     "text": [
      "1 2 3\n",
      "1 2 3\n"
     ]
    }
   ],
   "source": [
    "# Shows the fact that Python uses KEYWORD ARGUMENTS as well as the traditional positional arguments.\n",
    "## Notice that: in the output of the first and second call to function fun are the same.\n",
    "## In the second call (using keywords arguments), sorting arguments is not needed.\n",
    "\n",
    "\n",
    "def fun(x,y,z):\n",
    "    print (x,y,z)\n",
    "    \n",
    "fun(1,2,3);\n",
    "fun(z=3,y=2,x=1)"
   ]
  },
  {
   "cell_type": "code",
   "execution_count": 11,
   "metadata": {},
   "outputs": [
    {
     "name": "stdout",
     "output_type": "stream",
     "text": [
      "x is None\n"
     ]
    }
   ],
   "source": [
    "#instead of NULL: None\n",
    "\n",
    "x = None\n",
    "if (x==None):\n",
    "    print('x is None')\n"
   ]
  },
  {
   "cell_type": "code",
   "execution_count": null,
   "metadata": {},
   "outputs": [],
   "source": []
  }
 ],
 "metadata": {
  "interpreter": {
   "hash": "8128ec306610dba38624fc72e00be8ae7cdc1360b61e256d42c1379c71c7e5ea"
  },
  "kernelspec": {
   "display_name": "Python 3.8.1 32-bit",
   "name": "python3"
  },
  "language_info": {
   "codemirror_mode": {
    "name": "ipython",
    "version": 3
   },
   "file_extension": ".py",
   "mimetype": "text/x-python",
   "name": "python",
   "nbconvert_exporter": "python",
   "pygments_lexer": "ipython3",
   "version": "3.8.1"
  }
 },
 "nbformat": 4,
 "nbformat_minor": 2
}
