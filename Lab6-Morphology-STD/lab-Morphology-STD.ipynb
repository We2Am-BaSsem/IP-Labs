{
 "cells": [
  {
   "cell_type": "markdown",
   "metadata": {},
   "source": [
    "# Lab N\n",
    "### Morphology\n",
    "\n",
    "Skimage morphology operators' documentation:\n",
    "https://scikit-image.org/docs/dev/api/skimage.morphology.html"
   ]
  },
  {
   "cell_type": "code",
   "execution_count": null,
   "metadata": {},
   "outputs": [],
   "source": [
    "from commonfunctions import *\n",
    "import numpy as np\n",
    "import skimage.io as io\n",
    "import matplotlib.pyplot as plt\n",
    "from skimage.color import rgb2gray\n",
    "from skimage.morphology import binary_erosion, binary_dilation, binary_closing,skeletonize, thin\n",
    "from skimage.measure import find_contours\n",
    "from skimage.draw import rectangle\n",
    "\n",
    "# Show the figures / plots inside the notebook\n",
    "%matplotlib inline\n",
    "%load_ext autoreload\n",
    "%autoreload 2"
   ]
  },
  {
   "cell_type": "code",
   "execution_count": null,
   "metadata": {},
   "outputs": [],
   "source": [
    "'''\n",
    "1) Erosion / Dilation:\n",
    "    - Load \"coins.jpg\" from the img folder\n",
    "    - Convert the image to binary\n",
    "    - Write 2 functions each applying 1 of the erosion/dilation algorithms (with adjustable square window size) manually to the binary image\n",
    "    - Use Skimage's \"binary_erosion\" & \"binary_dilation\" & show the results\n",
    "'''\n"
   ]
  },
  {
   "cell_type": "code",
   "execution_count": null,
   "metadata": {},
   "outputs": [],
   "source": [
    "'''\n",
    "2) Case Study: Credit Card Number Extraction\n",
    "    - Load \"card.jpg\" from the img folder\n",
    "    - Convert the image to binary by brightness thresholding maintaining the card number details for extraction\n",
    "    - Use your erosion/dilation functions, or Skimage's functions only if you didn't implement them, to apply closing\n",
    "        Note: The goal of this step is to join the card number into 4 sets of connected pixels\n",
    "    - Use Skimage's \"find_contours\" to get the bounding boxes for the credit card's numbers by filtering on aspect ratio (between 2.5 & 3.5)\n",
    "        Note: When using \"find_contours(img, 0.8)\" the o/p is a list of contours each having:\n",
    "                - contour[:,0] being the Y values of the contour perimeter points\n",
    "                - contour[:,1] being the X values of the contour perimeter points\n",
    "'''\n",
    "\n",
    "#When provided with the correct format of the list of bounding_boxes, this section will set all pixels inside boxes in img_with_boxes\n",
    "for box in bounding_boxes:\n",
    "    [Xmin, Xmax, Ymin, Ymax] = box\n",
    "    rr, cc = rectangle(start = (Ymin,Xmin), end = (Ymax,Xmax), shape=img_gray.shape)\n",
    "    img_with_boxes[rr, cc] = 1 #set color white"
   ]
  },
  {
   "cell_type": "code",
   "execution_count": null,
   "metadata": {},
   "outputs": [],
   "source": [
    "'''\n",
    "3) Skeletonization:\n",
    "    - Load \"horse.jpg\" from the img folder \n",
    "    - Use a binary threshold of 0.9 to remove invisible noise in the background\n",
    "    - Use Skimage's \"skeletonize(image)\" to acquire the image's skeleton & show it\n",
    "    - Use Skimage's \"thin(image, max_iter)\" with values of max_iter 5/10/15/20 & show it\n",
    "'''\n"
   ]
  },
  {
   "cell_type": "code",
   "execution_count": null,
   "metadata": {},
   "outputs": [],
   "source": []
  }
 ],
 "metadata": {
  "kernelspec": {
   "display_name": "Python 3",
   "language": "python",
   "name": "python3"
  },
  "language_info": {
   "codemirror_mode": {
    "name": "ipython",
    "version": 3
   },
   "file_extension": ".py",
   "mimetype": "text/x-python",
   "name": "python",
   "nbconvert_exporter": "python",
   "pygments_lexer": "ipython3",
   "version": "3.7.4"
  }
 },
 "nbformat": 4,
 "nbformat_minor": 4
}
